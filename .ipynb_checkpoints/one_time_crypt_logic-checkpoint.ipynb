{
 "cells": [
  {
   "cell_type": "code",
   "execution_count": 1,
   "metadata": {},
   "outputs": [
    {
     "data": {
      "text/plain": [
       "1"
      ]
     },
     "execution_count": 1,
     "metadata": {},
     "output_type": "execute_result"
    }
   ],
   "source": [
    "1^0"
   ]
  },
  {
   "cell_type": "code",
   "execution_count": 2,
   "metadata": {},
   "outputs": [
    {
     "data": {
      "text/plain": [
       "0"
      ]
     },
     "execution_count": 2,
     "metadata": {},
     "output_type": "execute_result"
    }
   ],
   "source": [
    "1^1"
   ]
  },
  {
   "cell_type": "code",
   "execution_count": 5,
   "metadata": {},
   "outputs": [],
   "source": [
    "# これをXOR(排他論理和: eXclusive OR)という\n",
    "# オペランドの両方が真あるいは偽である場合に false を返す\n",
    "# オペランドがどちらか一つが真の場合は true を返す"
   ]
  },
  {
   "cell_type": "code",
   "execution_count": 10,
   "metadata": {},
   "outputs": [
    {
     "name": "stdout",
     "output_type": "stream",
     "text": [
      "b'\\xa5'\n"
     ]
    },
    {
     "data": {
      "text/plain": [
       "165"
      ]
     },
     "execution_count": 10,
     "metadata": {},
     "output_type": "execute_result"
    }
   ],
   "source": [
    "# ランダムなバイト文字列生成\n",
    "from secrets import token_bytes\n",
    "from typing import Tuple\n",
    "\n",
    "def random_key(length: int) -> int:\n",
    "    tb: bytes = token_bytes(length)\n",
    "    print(tb)\n",
    "    return int.from_bytes(tb, \"big\")\n",
    "\n",
    "# 例えば入力が1だとするとこの関数は1バイトのデータ長のランダムなbytesを作成し、\n",
    "# そのバイトをinteger型に直すので、2^8 = 256 の数値で表せる範囲の数値でアウトプットが行われる\n",
    "random_key(1)"
   ]
  },
  {
   "cell_type": "code",
   "execution_count": null,
   "metadata": {},
   "outputs": [],
   "source": [
    "# 上記２種類の特性を使うことでワンタイムパッド暗号を作成できる"
   ]
  },
  {
   "cell_type": "code",
   "execution_count": 16,
   "metadata": {},
   "outputs": [
    {
     "name": "stdout",
     "output_type": "stream",
     "text": [
      "1952805748\n"
     ]
    },
    {
     "data": {
      "text/plain": [
       "(2367086395, 4185107535)"
      ]
     },
     "execution_count": 16,
     "metadata": {},
     "output_type": "execute_result"
    }
   ],
   "source": [
    "# 暗号化まで\n",
    "from secrets import token_bytes\n",
    "from typing import Tuple\n",
    "\n",
    "def random_key(length: int) -> int:\n",
    "    tb: bytes = token_bytes(length)\n",
    "    return int.from_bytes(tb, \"big\")\n",
    "\n",
    "def encrypt(original: str) -> Tuple[int, int]:\n",
    "    # 入力された文字列をバイトにする\n",
    "    original_bytes: bytes = original.encode()\n",
    "    # オリジナル文字列のバイトの長さのランダムな数値を生成する\n",
    "    dummy: int = random_key(len(original_bytes))\n",
    "    # オリジナル文字列のバイトから数値を生成する\n",
    "    # この時点でdummyとoriginal_keyの数値のバイト長さは同じ \n",
    "    original_key: int = int.from_bytes(original_bytes, \"big\")\n",
    "    print(original_key)\n",
    "    # 排他論理和で計算した結果は\n",
    "    # 計算の元に使用された数値と排他論理和計算をすることで片方の数値を求めることができる特性がある！！(証明はしない)\n",
    "    encrypted: int = original_key ^ dummy # XOR\n",
    "    return dummy, encrypted\n",
    "\n",
    "encrypt(\"test\")"
   ]
  },
  {
   "cell_type": "code",
   "execution_count": 38,
   "metadata": {},
   "outputs": [
    {
     "name": "stdout",
     "output_type": "stream",
     "text": [
      "0b10101\n",
      "21\n"
     ]
    }
   ],
   "source": [
    "30^11\n",
    "# ↑どんな計算になっているか\n",
    "# 30 < 2**5以下なので5bitで表せる\n",
    "# 11をbitで表すと→ 1011\n",
    "# 30をbitで表すと→ 0 ~ 31で32なので 31 は11111 。30 は11110\n",
    "# これらをXORすると0 ^ 1は1, 0^0, 1^1は0なので 、10101となる\n",
    "print(bin(21))\n",
    "print(30^11)"
   ]
  },
  {
   "cell_type": "code",
   "execution_count": 39,
   "metadata": {},
   "outputs": [],
   "source": [
    "# 要するにdummyのキーと暗号化されたデータ渡されても暗号アルゴリズムが何かわからない限り破られないところが利点"
   ]
  },
  {
   "cell_type": "code",
   "execution_count": 43,
   "metadata": {},
   "outputs": [
    {
     "data": {
      "text/plain": [
       "0"
      ]
     },
     "execution_count": 43,
     "metadata": {},
     "output_type": "execute_result"
    }
   ],
   "source": [
    "# 復号化まで\n",
    "from secrets import token_bytes\n",
    "from typing import Tuple\n",
    "\n",
    "def random_key(length: int) -> int:\n",
    "    tb: bytes = token_bytes(length)\n",
    "    return int.from_bytes(tb, \"big\")\n",
    "\n",
    "def encrypt(original: str) -> Tuple[int, int]:\n",
    "    original_bytes: bytes = original.encode()\n",
    "    dummy: int = random_key(len(original_bytes))\n",
    "    original_key: int = int.from_bytes(original_bytes, \"big\")\n",
    "    encrypted: int = original_key ^ dummy\n",
    "    return dummy, encrypted\n",
    "\n",
    "def decrypt(key1: int, key2: int) -> str:\n",
    "    decrypted: int = key1 ^ key2\n",
    "    # to_bytesの引数はバイト長なので\n",
    "    # intをbitに直し、それをバイトに直す必要があるので8で割る必要がある(32 bit →4 byte)\n",
    "    temp: bytes = decrypted.to_bytes((decrypted.bit_length() + 7) // 8, 'big')\n",
    "    return temp.decode()"
   ]
  },
  {
   "cell_type": "code",
   "execution_count": 47,
   "metadata": {},
   "outputs": [
    {
     "data": {
      "text/plain": [
       "2"
      ]
     },
     "execution_count": 47,
     "metadata": {},
     "output_type": "execute_result"
    }
   ],
   "source": [
    "a = 21 #bitで10101\n",
    "a.bit_length() # 5桁\n",
    "b = 12 # 7を足して、 ※7を足さないと割り整数除算時にbit表記で8桁以下の桁数の部分が0になり桁数が狂う\n",
    "b // 8 # 1byte\n",
    "\n",
    "c = 260\n",
    "c.bit_length() # 9\n",
    "9 // 8 # → 1 これだと 本当はbit桁9= 2bytesで表すデータなのに正しくないので7を足す必要がある\n",
    "16 // 8 # → 2bytes"
   ]
  },
  {
   "cell_type": "code",
   "execution_count": null,
   "metadata": {},
   "outputs": [],
   "source": []
  }
 ],
 "metadata": {
  "kernelspec": {
   "display_name": "Python 3",
   "language": "python",
   "name": "python3"
  },
  "language_info": {
   "codemirror_mode": {
    "name": "ipython",
    "version": 3
   },
   "file_extension": ".py",
   "mimetype": "text/x-python",
   "name": "python",
   "nbconvert_exporter": "python",
   "pygments_lexer": "ipython3",
   "version": "3.7.2"
  }
 },
 "nbformat": 4,
 "nbformat_minor": 2
}
