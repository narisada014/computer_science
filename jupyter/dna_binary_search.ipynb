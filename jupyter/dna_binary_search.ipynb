{
 "cells": [
  {
   "cell_type": "code",
   "execution_count": 1,
   "metadata": {},
   "outputs": [],
   "source": [
    "# 与えられた遺伝子文字列に対して、3文字ごとにCodonに変換してList: geneに格納する\n",
    "# 前提として遺伝子はAGTCのいずれからなるヌクレオチドを3つ集めたコドンから成り立つ"
   ]
  },
  {
   "cell_type": "code",
   "execution_count": 3,
   "metadata": {},
   "outputs": [
    {
     "name": "stdout",
     "output_type": "stream",
     "text": [
      "[(<Nucleotide.A: 1>, <Nucleotide.C: 2>, <Nucleotide.G: 3>), (<Nucleotide.T: 4>, <Nucleotide.G: 3>, <Nucleotide.G: 3>), (<Nucleotide.C: 2>, <Nucleotide.T: 4>, <Nucleotide.C: 2>), (<Nucleotide.T: 4>, <Nucleotide.C: 2>, <Nucleotide.T: 4>), (<Nucleotide.A: 1>, <Nucleotide.A: 1>, <Nucleotide.C: 2>), (<Nucleotide.G: 3>, <Nucleotide.T: 4>, <Nucleotide.A: 1>), (<Nucleotide.C: 2>, <Nucleotide.G: 3>, <Nucleotide.T: 4>), (<Nucleotide.A: 1>, <Nucleotide.C: 2>, <Nucleotide.G: 3>), (<Nucleotide.T: 4>, <Nucleotide.A: 1>, <Nucleotide.C: 2>), (<Nucleotide.G: 3>, <Nucleotide.G: 3>, <Nucleotide.G: 3>), (<Nucleotide.G: 3>, <Nucleotide.T: 4>, <Nucleotide.T: 4>), (<Nucleotide.T: 4>, <Nucleotide.A: 1>, <Nucleotide.T: 4>), (<Nucleotide.A: 1>, <Nucleotide.T: 4>, <Nucleotide.A: 1>), (<Nucleotide.T: 4>, <Nucleotide.A: 1>, <Nucleotide.C: 2>), (<Nucleotide.C: 2>, <Nucleotide.C: 2>, <Nucleotide.T: 4>), (<Nucleotide.A: 1>, <Nucleotide.G: 3>, <Nucleotide.G: 3>), (<Nucleotide.A: 1>, <Nucleotide.C: 2>, <Nucleotide.T: 4>), (<Nucleotide.C: 2>, <Nucleotide.C: 2>, <Nucleotide.C: 2>), (<Nucleotide.T: 4>, <Nucleotide.T: 4>, <Nucleotide.T: 4>)]\n"
     ]
    }
   ],
   "source": [
    "from enum import IntEnum\n",
    "from typing import Tuple, List\n",
    "\n",
    "Nucleotide: IntEnum = IntEnum('Nucleotide', ('A', 'C', 'G', 'T')) # 1→ A, 2 → C, 3 → G, 4 → T\n",
    "Codon = Tuple[Nucleotide,Nucleotide,Nucleotide]\n",
    "Gene = List[Codon]\n",
    "\n",
    "gene_str: str = \"ACGTGGCTCTCTAACGTACGTACGTACGGGGTTTATATATACCCTAGGACTCCCTTT\"\n",
    "    \n",
    "def string_to_gene(s: str) -> Gene:\n",
    "    gene: Gene = []\n",
    "    for i in range(0, len(s), 3): # 0, 3, 6, 9のステップでforを回す\n",
    "        if (i + 2) >= len(s): # もしステップの和の i に2を足したものが入力の文字列の長さよりも長くなったらその時点でforを止める（不完全な遺伝子は排除）\n",
    "            return gene\n",
    "        codon: Codon = (Nucleotide[s[i]], Nucleotide[s[i + 1]], Nucleotide[s[i + 2]])\n",
    "        gene.append(codon)\n",
    "    return gene\n",
    "\n",
    "my_gene = string_to_gene(gene_str)\n",
    "print(my_gene)"
   ]
  },
  {
   "cell_type": "code",
   "execution_count": 18,
   "metadata": {},
   "outputs": [
    {
     "name": "stdout",
     "output_type": "stream",
     "text": [
      "True\n",
      "False\n",
      "0.0003418922424316406\n",
      "True\n"
     ]
    }
   ],
   "source": [
    "# 線形探索\n",
    "from enum import IntEnum\n",
    "from typing import Tuple, List\n",
    "\n",
    "# コドンをsortして扱う為、数値で扱えるEnumを利用する(1, 2, 4)より(1, 3, 3)の方がsortすると後になる（これはbinary_searchで利用可能）\n",
    "Nucleotide: IntEnum = IntEnum('Nucleotide', ('A', 'C', 'G', 'T')) # 1→ A, 2 → C, 3 → G, 4 → T\n",
    "Codon = Tuple[Nucleotide,Nucleotide,Nucleotide]\n",
    "Gene = List[Codon]\n",
    "\n",
    "gene_str: str = \"ACGTGGCTCTCTAACGTACGTACGTACGGGGTTTATATATACCCTAGGACTCCCTTTACGTGGCTCTCTAACGTACGTACGTACGGGGTTTATATATACCCTAGGACTCCCTTTACGTGGCTCTCTAACGTACGTACGTACGGGGTTTATATATACCCTAGGACTCCCTTT\"\n",
    "    \n",
    "def string_to_gene(s: str) -> Gene:\n",
    "    gene: Gene = []\n",
    "    for i in range(0, len(s), 3): # 0, 3, 6, 9のステップでforを回す\n",
    "        if (i + 2) >= len(s): # もしステップの和の i に2を足したものが入力の文字列の長さよりも長くなったらその時点でforを止める（不完全な遺伝子は排除）\n",
    "            return gene\n",
    "        codon: Codon = (Nucleotide[s[i]], Nucleotide[s[i + 1]], Nucleotide[s[i + 2]])\n",
    "        gene.append(codon)\n",
    "    return gene\n",
    "\n",
    "my_gene = string_to_gene(gene_str)\n",
    "\n",
    "# 遺伝子の中に特定のコドンが含まれるかをboolで評価する\n",
    "def linear_contains(gene: Gene, key_codon: Codon) -> bool:\n",
    "    for codon in gene:\n",
    "        if codon == key_codon:\n",
    "            return True\n",
    "        return False\n",
    "\n",
    "acg: Codon = (Nucleotide.A, Nucleotide.C, Nucleotide. G)\n",
    "gat: Codon = (Nucleotide.G, Nucleotide.A, Nucleotide.T)\n",
    "start = time.time()\n",
    "print(linear_contains(my_gene, acg))\n",
    "print(linear_contains(my_gene, gat))\n",
    "end = time.time() - start\n",
    "print(end)\n",
    "print(acg in my_gene)"
   ]
  },
  {
   "cell_type": "code",
   "execution_count": 16,
   "metadata": {},
   "outputs": [
    {
     "name": "stdout",
     "output_type": "stream",
     "text": [
      "[(<Nucleotide.A: 1>, <Nucleotide.A: 1>, <Nucleotide.C: 2>), (<Nucleotide.A: 1>, <Nucleotide.A: 1>, <Nucleotide.C: 2>), (<Nucleotide.A: 1>, <Nucleotide.A: 1>, <Nucleotide.C: 2>), (<Nucleotide.A: 1>, <Nucleotide.C: 2>, <Nucleotide.G: 3>), (<Nucleotide.A: 1>, <Nucleotide.C: 2>, <Nucleotide.G: 3>), (<Nucleotide.A: 1>, <Nucleotide.C: 2>, <Nucleotide.G: 3>), (<Nucleotide.A: 1>, <Nucleotide.C: 2>, <Nucleotide.G: 3>), (<Nucleotide.A: 1>, <Nucleotide.C: 2>, <Nucleotide.G: 3>), (<Nucleotide.A: 1>, <Nucleotide.C: 2>, <Nucleotide.G: 3>), (<Nucleotide.A: 1>, <Nucleotide.C: 2>, <Nucleotide.T: 4>), (<Nucleotide.A: 1>, <Nucleotide.C: 2>, <Nucleotide.T: 4>), (<Nucleotide.A: 1>, <Nucleotide.C: 2>, <Nucleotide.T: 4>), (<Nucleotide.A: 1>, <Nucleotide.G: 3>, <Nucleotide.G: 3>), (<Nucleotide.A: 1>, <Nucleotide.G: 3>, <Nucleotide.G: 3>), (<Nucleotide.A: 1>, <Nucleotide.G: 3>, <Nucleotide.G: 3>), (<Nucleotide.A: 1>, <Nucleotide.T: 4>, <Nucleotide.A: 1>), (<Nucleotide.A: 1>, <Nucleotide.T: 4>, <Nucleotide.A: 1>), (<Nucleotide.A: 1>, <Nucleotide.T: 4>, <Nucleotide.A: 1>), (<Nucleotide.C: 2>, <Nucleotide.C: 2>, <Nucleotide.C: 2>), (<Nucleotide.C: 2>, <Nucleotide.C: 2>, <Nucleotide.C: 2>), (<Nucleotide.C: 2>, <Nucleotide.C: 2>, <Nucleotide.C: 2>), (<Nucleotide.C: 2>, <Nucleotide.C: 2>, <Nucleotide.T: 4>), (<Nucleotide.C: 2>, <Nucleotide.C: 2>, <Nucleotide.T: 4>), (<Nucleotide.C: 2>, <Nucleotide.C: 2>, <Nucleotide.T: 4>), (<Nucleotide.C: 2>, <Nucleotide.G: 3>, <Nucleotide.T: 4>), (<Nucleotide.C: 2>, <Nucleotide.G: 3>, <Nucleotide.T: 4>), (<Nucleotide.C: 2>, <Nucleotide.G: 3>, <Nucleotide.T: 4>), (<Nucleotide.C: 2>, <Nucleotide.T: 4>, <Nucleotide.C: 2>), (<Nucleotide.C: 2>, <Nucleotide.T: 4>, <Nucleotide.C: 2>), (<Nucleotide.C: 2>, <Nucleotide.T: 4>, <Nucleotide.C: 2>), (<Nucleotide.G: 3>, <Nucleotide.G: 3>, <Nucleotide.G: 3>), (<Nucleotide.G: 3>, <Nucleotide.G: 3>, <Nucleotide.G: 3>), (<Nucleotide.G: 3>, <Nucleotide.G: 3>, <Nucleotide.G: 3>), (<Nucleotide.G: 3>, <Nucleotide.T: 4>, <Nucleotide.A: 1>), (<Nucleotide.G: 3>, <Nucleotide.T: 4>, <Nucleotide.A: 1>), (<Nucleotide.G: 3>, <Nucleotide.T: 4>, <Nucleotide.A: 1>), (<Nucleotide.G: 3>, <Nucleotide.T: 4>, <Nucleotide.T: 4>), (<Nucleotide.G: 3>, <Nucleotide.T: 4>, <Nucleotide.T: 4>), (<Nucleotide.G: 3>, <Nucleotide.T: 4>, <Nucleotide.T: 4>), (<Nucleotide.T: 4>, <Nucleotide.A: 1>, <Nucleotide.C: 2>), (<Nucleotide.T: 4>, <Nucleotide.A: 1>, <Nucleotide.C: 2>), (<Nucleotide.T: 4>, <Nucleotide.A: 1>, <Nucleotide.C: 2>), (<Nucleotide.T: 4>, <Nucleotide.A: 1>, <Nucleotide.C: 2>), (<Nucleotide.T: 4>, <Nucleotide.A: 1>, <Nucleotide.C: 2>), (<Nucleotide.T: 4>, <Nucleotide.A: 1>, <Nucleotide.C: 2>), (<Nucleotide.T: 4>, <Nucleotide.A: 1>, <Nucleotide.T: 4>), (<Nucleotide.T: 4>, <Nucleotide.A: 1>, <Nucleotide.T: 4>), (<Nucleotide.T: 4>, <Nucleotide.A: 1>, <Nucleotide.T: 4>), (<Nucleotide.T: 4>, <Nucleotide.C: 2>, <Nucleotide.T: 4>), (<Nucleotide.T: 4>, <Nucleotide.C: 2>, <Nucleotide.T: 4>), (<Nucleotide.T: 4>, <Nucleotide.C: 2>, <Nucleotide.T: 4>), (<Nucleotide.T: 4>, <Nucleotide.G: 3>, <Nucleotide.G: 3>), (<Nucleotide.T: 4>, <Nucleotide.G: 3>, <Nucleotide.G: 3>), (<Nucleotide.T: 4>, <Nucleotide.G: 3>, <Nucleotide.G: 3>), (<Nucleotide.T: 4>, <Nucleotide.T: 4>, <Nucleotide.T: 4>), (<Nucleotide.T: 4>, <Nucleotide.T: 4>, <Nucleotide.T: 4>), (<Nucleotide.T: 4>, <Nucleotide.T: 4>, <Nucleotide.T: 4>)]\n",
      "True\n",
      "False\n",
      "0.0001850128173828125\n"
     ]
    }
   ],
   "source": [
    "# 二分探索\n",
    "# 線形探索\n",
    "from enum import IntEnum\n",
    "from typing import Tuple, List\n",
    "import time\n",
    "\n",
    "Nucleotide: IntEnum = IntEnum('Nucleotide', ('A', 'C', 'G', 'T')) # 1→ A, 2 → C, 3 → G, 4 → T\n",
    "Codon = Tuple[Nucleotide,Nucleotide,Nucleotide]\n",
    "Gene = List[Codon]\n",
    "\n",
    "gene_str: str = \"ACGTGGCTCTCTAACGTACGTACGTACGGGGTTTATATATACCCTAGGACTCCCTTTACGTGGCTCTCTAACGTACGTACGTACGGGGTTTATATATACCCTAGGACTCCCTTTACGTGGCTCTCTAACGTACGTACGTACGGGGTTTATATATACCCTAGGACTCCCTTT\"\n",
    "    \n",
    "def string_to_gene(s: str) -> Gene:\n",
    "    gene: Gene = []\n",
    "    for i in range(0, len(s), 3): # 0, 3, 6, 9のステップでforを回す\n",
    "        if (i + 2) >= len(s): # もしステップの和の i に2を足したものが入力の文字列の長さよりも長くなったらその時点でforを止める（不完全な遺伝子は排除）\n",
    "            return gene\n",
    "        codon: Codon = (Nucleotide[s[i]], Nucleotide[s[i + 1]], Nucleotide[s[i + 2]])\n",
    "        gene.append(codon)\n",
    "    return gene\n",
    "\n",
    "my_gene = string_to_gene(gene_str)\n",
    "    \n",
    "acg: Codon = (Nucleotide.A, Nucleotide.C, Nucleotide. G)\n",
    "gat: Codon = (Nucleotide.G, Nucleotide.A, Nucleotide.T)\n",
    "\n",
    "print(sorted(my_gene))\n",
    "\n",
    "def binary_contains(gene: Gene, key_codon: Codon) -> bool:\n",
    "    low: int = 0\n",
    "    high: int = len(gene) - 1\n",
    "    while low <= high:\n",
    "        mid: int = (low + high) // 2\n",
    "        if gene[mid] < key_codon:\n",
    "            low = mid + 1\n",
    "        elif gene[mid] > key_codon:\n",
    "            high = mid - 1\n",
    "        else:\n",
    "            return True\n",
    "    return False\n",
    "\n",
    "start = time.time()\n",
    "my_sorted_gene: Gene = sorted(my_gene)\n",
    "print(binary_contains(my_sorted_gene, acg))\n",
    "print(binary_contains(my_sorted_gene, gat))\n",
    "end = time.time() - start\n",
    "print(end)"
   ]
  },
  {
   "cell_type": "code",
   "execution_count": null,
   "metadata": {},
   "outputs": [],
   "source": [
    "# 二分探索の方が早い"
   ]
  }
 ],
 "metadata": {
  "kernelspec": {
   "display_name": "Python 3",
   "language": "python",
   "name": "python3"
  },
  "language_info": {
   "codemirror_mode": {
    "name": "ipython",
    "version": 3
   },
   "file_extension": ".py",
   "mimetype": "text/x-python",
   "name": "python",
   "nbconvert_exporter": "python",
   "pygments_lexer": "ipython3",
   "version": "3.7.2"
  }
 },
 "nbformat": 4,
 "nbformat_minor": 2
}
