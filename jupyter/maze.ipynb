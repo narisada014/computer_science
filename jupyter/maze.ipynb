{
 "cells": [
  {
   "cell_type": "code",
   "execution_count": 11,
   "metadata": {
    "pycharm": {}
   },
   "outputs": [
    {
     "name": "stdout",
     "output_type": "stream",
     "text": [
      "S              X  \n",
      "    X      X      \n",
      "                  X\n",
      "    XX            \n",
      "                X  \n",
      "      X        X  \n",
      "        X  X      \n",
      "                    \n",
      "    X          X  \n",
      "X          X    G\n",
      "\n"
     ]
    }
   ],
   "source": [
    "# 迷路作成\n",
    "from enum import Enum\n",
    "from typing import List, NamedTuple, Callable, Optional\n",
    "import random\n",
    "from math import sqrt\n",
    "# Generic探索をimport\n",
    "from generic_search import dfs, bfs, node_to_path, astar, Node\n",
    "\n",
    "class Cell(str, Enum):\n",
    "    EMPTY= \"  \"\n",
    "    BLOCKED=\"X\"\n",
    "    START=\"S\"\n",
    "    GOAL=\"G\"\n",
    "    PATH=\"*\"\n",
    "\n",
    "# NamedTupleはMazeLocation(9,9)のような引数をとると、\n",
    "# MazeLocation.row => 9, MazeLocation.column => 9　のようになる\n",
    "class MazeLocation(NamedTuple):\n",
    "    row: int\n",
    "    column: int\n",
    "\n",
    "class Maze:\n",
    "    def __init__(self, rows: int = 10, columns: int = 10, sparseness: float = 0.2,\n",
    "                 start: MazeLocation = MazeLocation(0,0), goal: MazeLocation = MazeLocation(9,9)) -> None:\n",
    "        self._rows: int = rows\n",
    "        self._columns: int = columns\n",
    "        self.start: MazeLocation = MazeLocation\n",
    "        self.goal: MazeLocation = goal\n",
    "        # 10 × 10 のセル群を作成する（初期化）\n",
    "        # 一つの列の10マスにEMPTYを入れそれを10回繰り返す　=> 10*10\n",
    "        self._grid: List[List[Cell]]= [[Cell.EMPTY for c in range(columns)] for r in range(rows)]\n",
    "            \n",
    "        self._randomly_fill(rows, columns, sparseness)\n",
    "        \n",
    "        self._grid[start.row][start.column] = Cell.START\n",
    "        self._grid[goal.row][goal.column] = Cell.GOAL\n",
    "        \n",
    "    # 迷路にランダムに障害物を作成するメソッド\n",
    "    def _randomly_fill(self, rows: int, columns: int, sparseness: float):\n",
    "        for row in range(rows):\n",
    "            for column in range(columns):\n",
    "                # ランダムな確率でブロックを生成\n",
    "                if random.uniform(0, 1.0) < sparseness:\n",
    "                    self._grid[row][column] = Cell.BLOCKED\n",
    "    \n",
    "    # 迷路を出力するメソッド\n",
    "    def __str__(self) -> str:\n",
    "        output: str = \"\"\n",
    "        #  10 * 10のグリッドのそれぞれの列に対する処理  \n",
    "        for row in self._grid:\n",
    "        # 10 列のそれぞれのに対してvaleを出力し、outputに格納し、最後に改行を行い迷路っぽいものを作る\n",
    "            output += \"\".join([c.value for c in row]) + \"\\n\"\n",
    "        return output\n",
    "    \n",
    "    def goal_test(self, ml: MazeLocation) -> bool:\n",
    "        return ml == self.goal\n",
    "    \n",
    "    # 現時点から次にどこの迷路のマスに進めるかを決めるメソッド\n",
    "    def successors(self, ml: MazeLocation) -> List[MazeLocation]:\n",
    "        locarions: List[MazeLocation] = []\n",
    "        # 今いるlocationの列に1足した時が10以内でかつ一つ右がブロックではない場合\n",
    "        if ml.row + 1 < self._rows and self._grid[ml.row + 1][ml.column] != Cell.BLOCKED:\n",
    "            locations.append(MazeLocation(ml.row + 1, ml.column))\n",
    "        # 上記パターンの左のマスver\n",
    "        if ml.row - 1 >= 0 and self._grid[ml.row -1][ml.column] != Cell.BLOCKED:\n",
    "            locations.append(MazeLocation(ml.row - 1, ml.column))\n",
    "        #  上記パターンの一つ下のマスver\n",
    "        if ml.column + 1 < self._columns and self._grid[ml.row][ml.column + 1] != Cell.BLOCKED:\n",
    "             locations.append(MazeLocation(ml.row, ml.column + 1))\n",
    "        # 上記パターンの左のマスver\n",
    "        if ml.column - 1 >= 0 and self._grid[ml.row][ml.column - 1] != Cell.BLOCKED:\n",
    "            locations.append(MazeLocation(ml.row, ml.column - 1))\n",
    "        return locations\n",
    "\n",
    "maze: Maze = Maze()\n",
    "print(maze)\n",
    "    "
   ]
  },
  {
   "cell_type": "code",
   "execution_count": null,
   "metadata": {
    "pycharm": {}
   },
   "outputs": [],
   "source": []
  },
  {
   "cell_type": "code",
   "execution_count": null,
   "metadata": {
    "pycharm": {}
   },
   "outputs": [],
   "source": []
  }
 ],
 "metadata": {
  "kernelspec": {
   "display_name": "Python 3",
   "language": "python",
   "name": "python3"
  },
  "language_info": {
   "codemirror_mode": {
    "name": "ipython",
    "version": 3
   },
   "file_extension": ".py",
   "mimetype": "text/x-python",
   "name": "python",
   "nbconvert_exporter": "python",
   "pygments_lexer": "ipython3",
   "version": "3.7.2"
  }
 },
 "nbformat": 4,
 "nbformat_minor": 2
}
